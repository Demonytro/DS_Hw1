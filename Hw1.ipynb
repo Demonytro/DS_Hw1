{
  "nbformat": 4,
  "nbformat_minor": 0,
  "metadata": {
    "colab": {
      "provenance": [],
      "authorship_tag": "ABX9TyPaS5tBHZDh0p8FobqvBXDQ",
      "include_colab_link": true
    },
    "kernelspec": {
      "name": "python3",
      "display_name": "Python 3"
    },
    "language_info": {
      "name": "python"
    }
  },
  "cells": [
    {
      "cell_type": "markdown",
      "metadata": {
        "id": "view-in-github",
        "colab_type": "text"
      },
      "source": [
        "<a href=\"https://colab.research.google.com/github/Demonytro/DS_Hw1/blob/main/Hw1.ipynb\" target=\"_parent\"><img src=\"https://colab.research.google.com/assets/colab-badge.svg\" alt=\"Open In Colab\"/></a>"
      ]
    },
    {
      "cell_type": "code",
      "execution_count": 2,
      "metadata": {
        "colab": {
          "base_uri": "https://localhost:8080/",
          "height": 368
        },
        "id": "Ncnp7oPzl7DP",
        "outputId": "6316f595-1199-4c6a-f22a-9e16ceeb7220"
      },
      "outputs": [
        {
          "output_type": "stream",
          "name": "stdout",
          "text": [
            "Requirement already satisfied: numpy in /usr/local/lib/python3.10/dist-packages (1.22.4)\n",
            "Collecting numpy\n",
            "  Downloading numpy-1.25.1-cp310-cp310-manylinux_2_17_x86_64.manylinux2014_x86_64.whl (17.6 MB)\n",
            "\u001b[2K     \u001b[90m━━━━━━━━━━━━━━━━━━━━━━━━━━━━━━━━━━━━━━━━\u001b[0m \u001b[32m17.6/17.6 MB\u001b[0m \u001b[31m64.1 MB/s\u001b[0m eta \u001b[36m0:00:00\u001b[0m\n",
            "\u001b[?25hInstalling collected packages: numpy\n",
            "  Attempting uninstall: numpy\n",
            "    Found existing installation: numpy 1.22.4\n",
            "    Uninstalling numpy-1.22.4:\n",
            "      Successfully uninstalled numpy-1.22.4\n",
            "\u001b[31mERROR: pip's dependency resolver does not currently take into account all the packages that are installed. This behaviour is the source of the following dependency conflicts.\n",
            "numba 0.56.4 requires numpy<1.24,>=1.18, but you have numpy 1.25.1 which is incompatible.\n",
            "tensorflow 2.12.0 requires numpy<1.24,>=1.22, but you have numpy 1.25.1 which is incompatible.\u001b[0m\u001b[31m\n",
            "\u001b[0mSuccessfully installed numpy-1.25.1\n"
          ]
        },
        {
          "output_type": "display_data",
          "data": {
            "application/vnd.colab-display-data+json": {
              "pip_warning": {
                "packages": [
                  "numpy"
                ]
              }
            }
          },
          "metadata": {}
        },
        {
          "output_type": "execute_result",
          "data": {
            "text/plain": [
              "'1.22.4'"
            ],
            "application/vnd.google.colaboratory.intrinsic+json": {
              "type": "string"
            }
          },
          "metadata": {},
          "execution_count": 2
        }
      ],
      "source": [
        "# Reinstall numpy using pip with the latest version\n",
        "!pip install numpy --upgrade\n",
        "# Import numpy as np\n",
        "import numpy as np\n",
        "np.__version__"
      ]
    },
    {
      "cell_type": "code",
      "source": [
        "import numpy as np\n",
        "np.__version__"
      ],
      "metadata": {
        "colab": {
          "base_uri": "https://localhost:8080/",
          "height": 35
        },
        "id": "8KrfKyuEfxez",
        "outputId": "102c6333-762e-447b-b14d-ae757e098ee3"
      },
      "execution_count": 2,
      "outputs": [
        {
          "output_type": "execute_result",
          "data": {
            "text/plain": [
              "'1.25.1'"
            ],
            "application/vnd.google.colaboratory.intrinsic+json": {
              "type": "string"
            }
          },
          "metadata": {},
          "execution_count": 2
        }
      ]
    },
    {
      "cell_type": "markdown",
      "source": [
        "1. Створіть одновимірний масив (вектор) з першими 10-ма натуральними числами та виведіть його значення.\n"
      ],
      "metadata": {
        "id": "2l3tnv74mgLK"
      }
    },
    {
      "cell_type": "code",
      "source": [
        "# create a np.array vector with 10 elements from 1 to 10 with dtype=float\n",
        "a = np.array(object=[1,2,3,4,5,6,7,8,9,10], dtype=int)\n",
        "\n",
        "# print the vector\n",
        "print(a)"
      ],
      "metadata": {
        "colab": {
          "base_uri": "https://localhost:8080/"
        },
        "id": "uGpMuTzzmtsQ",
        "outputId": "1fcfbe22-3b5a-4da8-93be-c3e93abbbb57"
      },
      "execution_count": 16,
      "outputs": [
        {
          "output_type": "stream",
          "name": "stdout",
          "text": [
            "[ 1  2  3  4  5  6  7  8  9 10]\n"
          ]
        }
      ]
    },
    {
      "cell_type": "markdown",
      "source": [
        "2. Створіть двовимірний масив (матрицю) розміром 3x3, заповніть його нулями та виведіть його значення."
      ],
      "metadata": {
        "id": "BA2SmY8Snqlb"
      }
    },
    {
      "cell_type": "code",
      "source": [
        "# Create a numpy matrix with a specific data type = int\n",
        "A = np.array([[0, 0, 0],[0, 0, 0]], dtype=int)\n",
        "\n",
        "# Display the result\n",
        "print(A)\n",
        "\n",
        "# створіть вектор з нулями\n",
        "b = np.zeros((3,3))\n",
        "\n",
        "# відобразіть результат\n",
        "print(b)"
      ],
      "metadata": {
        "colab": {
          "base_uri": "https://localhost:8080/"
        },
        "id": "-AmShlSqnuaV",
        "outputId": "f694f522-5c17-4721-eb20-a004332a5006"
      },
      "execution_count": 5,
      "outputs": [
        {
          "output_type": "stream",
          "name": "stdout",
          "text": [
            "[[0 0 0]\n",
            " [0 0 0]]\n",
            "[[0. 0. 0.]\n",
            " [0. 0. 0.]\n",
            " [0. 0. 0.]]\n"
          ]
        }
      ]
    },
    {
      "cell_type": "markdown",
      "source": [
        "3.     Створіть масив розміром 5x5, заповніть його випадковими цілими числами в діапазоні від 1 до 10 та виведіть його значення.\n"
      ],
      "metadata": {
        "id": "ijwVKXQModPY"
      }
    },
    {
      "cell_type": "code",
      "source": [
        "# створіть матрицю з рандомними значеннями\n",
        "c = np.random.randint(1, 10, (5, 5))\n",
        "\n",
        "\n",
        "# відобразіть результат\n",
        "print(c)"
      ],
      "metadata": {
        "colab": {
          "base_uri": "https://localhost:8080/"
        },
        "id": "wtcW6MclohLA",
        "outputId": "cb165787-0d70-4f2a-f974-5df40fa5047b"
      },
      "execution_count": 13,
      "outputs": [
        {
          "output_type": "stream",
          "name": "stdout",
          "text": [
            "[[9 2 3 1 1]\n",
            " [9 8 7 6 2]\n",
            " [1 1 8 5 5]\n",
            " [9 1 5 5 6]\n",
            " [8 7 7 2 7]]\n"
          ]
        }
      ]
    },
    {
      "cell_type": "markdown",
      "source": [
        "4.     Створіть масив розміром 4x4, заповніть його випадковими дійсними числами в діапазоні від 0 до 1 та виведіть його значення."
      ],
      "metadata": {
        "id": "yBXVKBtlooXB"
      }
    },
    {
      "cell_type": "code",
      "source": [
        "# створіть матрицю з рандомними значеннями\n",
        "b = np.random.random((4,4))\n",
        "c = np.random.rand(4, 4)\n",
        "\n",
        "\n",
        "# відобразіть результат\n",
        "print(b)\n",
        "print(c)"
      ],
      "metadata": {
        "colab": {
          "base_uri": "https://localhost:8080/"
        },
        "id": "beLH48O4oxfU",
        "outputId": "bd8df263-ab23-4419-9154-fb1ccd9c52ab"
      },
      "execution_count": 18,
      "outputs": [
        {
          "output_type": "stream",
          "name": "stdout",
          "text": [
            "[[0.04134905 0.66932475 0.86632338 0.139101  ]\n",
            " [0.09770663 0.83920542 0.08826744 0.96869353]\n",
            " [0.48125063 0.62258334 0.45672868 0.78482207]\n",
            " [0.40582784 0.59968507 0.16281182 0.95664215]]\n",
            "[[0.97377361 0.23916816 0.53056933 0.69570108]\n",
            " [0.13878223 0.61133551 0.36776085 0.1276472 ]\n",
            " [0.2601824  0.19104549 0.74528813 0.51392671]\n",
            " [0.98939954 0.37541491 0.00554897 0.2151131 ]]\n"
          ]
        }
      ]
    },
    {
      "cell_type": "markdown",
      "source": [
        "5.     Створіть два одновимірних масиви розміром 5, заповніть їх випадковими цілими числами в діапазоні від 1 до 10 та виконайте на них поелементні операції додавання, віднімання та множення.\n"
      ],
      "metadata": {
        "id": "R-QIVcxWsnF1"
      }
    },
    {
      "cell_type": "code",
      "source": [
        "a = np.random.randint(1, 10, (5))\n",
        "b = np.random.randint(1, 10, (5))\n",
        "\n",
        "print(a)\n",
        "print(b)\n",
        "\n",
        "# відобразіть додавання\n",
        "c = a + b\n",
        "print(c)\n",
        "\n",
        "# відобразіть віднімання\n",
        "c = a - b\n",
        "print(c)\n",
        "\n",
        "# відобразіть множення\n",
        "c = a * b\n",
        "print(c)"
      ],
      "metadata": {
        "colab": {
          "base_uri": "https://localhost:8080/"
        },
        "id": "_f1utwy2s2nc",
        "outputId": "cd3fb9dc-5cb3-43a1-c6db-18d2a091a407"
      },
      "execution_count": 6,
      "outputs": [
        {
          "output_type": "stream",
          "name": "stdout",
          "text": [
            "[8 9 7 8 8]\n",
            "[5 2 9 3 8]\n",
            "[13 11 16 11 16]\n",
            "[ 3  7 -2  5  0]\n",
            "[40 18 63 24 64]\n"
          ]
        }
      ]
    },
    {
      "cell_type": "markdown",
      "source": [
        "6. Створіть два вектори розміром 7, заповніть довільними числами та знайдіть їх скалярний добуток.\n"
      ],
      "metadata": {
        "id": "DwaxcKZIsudA"
      }
    },
    {
      "cell_type": "code",
      "source": [
        "b = np.random.random(7)\n",
        "c = np.random.rand(7)\n",
        "\n",
        "\n",
        "# відобразіть результат\n",
        "print(b)\n",
        "print(c)\n",
        "\n",
        "d = b@c\n",
        "# відобразіть результат\n",
        "print(d)"
      ],
      "metadata": {
        "colab": {
          "base_uri": "https://localhost:8080/"
        },
        "id": "SRHe_ha5groV",
        "outputId": "8b853554-706e-4d5e-b9cc-68909999d413"
      },
      "execution_count": 5,
      "outputs": [
        {
          "output_type": "stream",
          "name": "stdout",
          "text": [
            "[0.49270391 0.59976861 0.94075773 0.61160118 0.62897614 0.9326583\n",
            " 0.66168589]\n",
            "[0.70469018 0.59634595 0.42618811 0.40072278 0.30560744 0.26604265\n",
            " 0.11803386]\n",
            "1.8693434808979268\n"
          ]
        }
      ]
    },
    {
      "cell_type": "markdown",
      "source": [
        "7. Створіть дві матриці розміром 2x2 та 2x3, заповніть їх випадковими цілими числами в діапазоні від 1 до 10 та перемножте їх між собою."
      ],
      "metadata": {
        "id": "AH8XAr0qszJj"
      }
    },
    {
      "cell_type": "code",
      "source": [
        "a = np.random.randint(1, 10, (2,2))\n",
        "b = np.random.randint(1, 10, (2,3))\n",
        "\n",
        "print(a)\n",
        "print(b)\n",
        "\n",
        "# відобразіть множення\n",
        "# c = a * b\n",
        "# print(c)\n",
        "\n",
        "print(np.dot(a, b))\n",
        "# print(np.dot(b, a))"
      ],
      "metadata": {
        "colab": {
          "base_uri": "https://localhost:8080/"
        },
        "id": "CSIn1IHZjMH0",
        "outputId": "ee59b4d6-ba1a-414c-d247-c7111c8ec91a"
      },
      "execution_count": 13,
      "outputs": [
        {
          "output_type": "stream",
          "name": "stdout",
          "text": [
            "[[7 4]\n",
            " [1 8]]\n",
            "[[4 9 9]\n",
            " [6 3 5]]\n",
            "[[52 75 83]\n",
            " [52 33 49]]\n"
          ]
        }
      ]
    },
    {
      "cell_type": "markdown",
      "source": [
        "\n",
        "8.    Створіть матрицю розміром 3x3, заповніть її випадковими цілими числами в діапазоні від 1 до 10 та знайдіть її обернену матрицю.\n"
      ],
      "metadata": {
        "id": "VDg5igfv5_ev"
      }
    },
    {
      "cell_type": "code",
      "source": [
        "a = np.random.randint(1, 10, (3,3))\n",
        "print(a)\n",
        "a_inv = np.linalg.inv(a)\n",
        "print(a_inv)"
      ],
      "metadata": {
        "colab": {
          "base_uri": "https://localhost:8080/"
        },
        "id": "2IKrqsjn9trs",
        "outputId": "1d3e8ae9-45f9-4be5-f677-d4bbbf71ce01"
      },
      "execution_count": 17,
      "outputs": [
        {
          "output_type": "stream",
          "name": "stdout",
          "text": [
            "[[4 1 2]\n",
            " [2 1 5]\n",
            " [8 7 4]]\n",
            "[[ 0.3875 -0.125  -0.0375]\n",
            " [-0.4    -0.      0.2   ]\n",
            " [-0.075   0.25   -0.025 ]]\n"
          ]
        }
      ]
    },
    {
      "cell_type": "markdown",
      "source": [
        "\n",
        "9.    Створіть матрицю розміром 4x4, заповніть її випадковими дійсними числами в діапазоні від 0 до 1 та транспонуйте її.\n"
      ],
      "metadata": {
        "id": "-P-iBz0Q6J56"
      }
    },
    {
      "cell_type": "code",
      "source": [
        "b = np.random.random((4,4))\n",
        "print(b)\n",
        "b_transp = b.T\n",
        "print(b_transp)\n",
        "C = np.transpose(b)\n",
        "print(C)"
      ],
      "metadata": {
        "colab": {
          "base_uri": "https://localhost:8080/"
        },
        "id": "bJP21pnc-akc",
        "outputId": "94b5c9eb-3e41-41f6-a0bc-eb4c5205a330"
      },
      "execution_count": 26,
      "outputs": [
        {
          "output_type": "stream",
          "name": "stdout",
          "text": [
            "[[0.53873467 0.79964063 0.73163658 0.33811702]\n",
            " [0.35169365 0.71735455 0.80937667 0.18182422]\n",
            " [0.19121657 0.87332686 0.95749618 0.23102528]\n",
            " [0.06875394 0.09212887 0.10770459 0.4167709 ]]\n",
            "[[0.53873467 0.35169365 0.19121657 0.06875394]\n",
            " [0.79964063 0.71735455 0.87332686 0.09212887]\n",
            " [0.73163658 0.80937667 0.95749618 0.10770459]\n",
            " [0.33811702 0.18182422 0.23102528 0.4167709 ]]\n",
            "[[0.53873467 0.35169365 0.19121657 0.06875394]\n",
            " [0.79964063 0.71735455 0.87332686 0.09212887]\n",
            " [0.73163658 0.80937667 0.95749618 0.10770459]\n",
            " [0.33811702 0.18182422 0.23102528 0.4167709 ]]\n"
          ]
        }
      ]
    },
    {
      "cell_type": "markdown",
      "source": [
        "\n",
        "10.    Створіть матрицю розміром 3x4 та вектор розміром 4, заповніть їх випадковими цілими числами в діапазоні від 1 до 10 та перемножте матрицю на вектор.\n"
      ],
      "metadata": {
        "id": "u0FpH3V46MFf"
      }
    },
    {
      "cell_type": "code",
      "source": [
        "a = np.random.randint(1, 10, (3,4))\n",
        "b = np.random.randint(1, 10, (4))\n",
        "c = a * b\n",
        "print(a)\n",
        "print(b)\n",
        "print(c)"
      ],
      "metadata": {
        "colab": {
          "base_uri": "https://localhost:8080/"
        },
        "id": "3WLzs61f_fRT",
        "outputId": "fb72a033-5d81-446f-c81a-0787310fd150"
      },
      "execution_count": 20,
      "outputs": [
        {
          "output_type": "stream",
          "name": "stdout",
          "text": [
            "[[8 1 6 4]\n",
            " [6 1 3 3]\n",
            " [4 5 7 6]]\n",
            "[7 2 3 8]\n",
            "[[56  2 18 32]\n",
            " [42  2  9 24]\n",
            " [28 10 21 48]]\n"
          ]
        }
      ]
    },
    {
      "cell_type": "markdown",
      "source": [
        "\n",
        "11.    Створіть матрицю розміром 2x3 та вектор розміром 3, заповніть їх випадковими дійсними числами в діапазоні від 0 до 1 та перемножте матрицю на вектор."
      ],
      "metadata": {
        "id": "XCmKbSYX6ODK"
      }
    },
    {
      "cell_type": "code",
      "source": [
        "a = np.random.random((3,4))\n",
        "b = np.random.random((4))\n",
        "c = a * b\n",
        "print(a)\n",
        "print(b)\n",
        "print(c)"
      ],
      "metadata": {
        "colab": {
          "base_uri": "https://localhost:8080/"
        },
        "id": "25ODHiT2_xeg",
        "outputId": "d8ab2ef5-eeb8-4d58-a59c-ec77ddf91696"
      },
      "execution_count": 37,
      "outputs": [
        {
          "output_type": "stream",
          "name": "stdout",
          "text": [
            "[[0.90913161 0.58029042 0.49196103 0.28700612]\n",
            " [0.33038231 0.37833228 0.50833381 0.43691741]\n",
            " [0.76780674 0.94540561 0.80585048 0.67765027]]\n",
            "[0.50799761 0.18113017 0.02848569 0.11551632]\n",
            "[[0.46183669 0.1051081  0.01401385 0.03315389]\n",
            " [0.16783342 0.06852739 0.01448024 0.05047109]\n",
            " [0.39004399 0.17124148 0.02295521 0.07827967]]\n"
          ]
        }
      ]
    },
    {
      "cell_type": "markdown",
      "source": [
        "12.    Створіть дві матриці розміром 2x2, заповніть їх випадковими цілими числами в діапазоні від 1 до 10 та виконайте їхнє поелементне множення.\n",
        "\n"
      ],
      "metadata": {
        "id": "-2BaLpfVAVsU"
      }
    },
    {
      "cell_type": "code",
      "source": [
        "a = np.random.randint(1, 10, (2,2))\n",
        "b = np.random.randint(1, 10, (2,2))\n",
        "c = a * b\n",
        "print(a)\n",
        "print(b)\n",
        "print(c)"
      ],
      "metadata": {
        "colab": {
          "base_uri": "https://localhost:8080/"
        },
        "id": "HHe6MtPJAsV6",
        "outputId": "0ed76932-bf3a-4048-d443-81b9fac67b25"
      },
      "execution_count": 23,
      "outputs": [
        {
          "output_type": "stream",
          "name": "stdout",
          "text": [
            "[[3 6]\n",
            " [8 9]]\n",
            "[[1 3]\n",
            " [8 8]]\n",
            "[[ 3 18]\n",
            " [64 72]]\n"
          ]
        }
      ]
    },
    {
      "cell_type": "markdown",
      "source": [
        "\n",
        "13.    Створіть дві матриці розміром 2x2, заповніть їх випадковими цілими числами в діапазоні від 1 до 10 та знайдіть їх добуток.\n"
      ],
      "metadata": {
        "id": "QuhU7iaRAf3L"
      }
    },
    {
      "cell_type": "code",
      "source": [
        "a = np.random.randint(1, 10, (2,2))\n",
        "b = np.random.randint(1, 10, (2,2))\n",
        "c = np.multiply(a, b)\n",
        "print(a)\n",
        "print(b)\n",
        "print(c)\n",
        "\n",
        "C = np.dot(a, b)\n",
        "\n",
        "# print the matrix C\n",
        "print(C)\n",
        "\n",
        "# use a magic function\n",
        "D = a@b\n",
        "\n",
        "# print the matrix D\n",
        "print(D)"
      ],
      "metadata": {
        "colab": {
          "base_uri": "https://localhost:8080/"
        },
        "id": "XDHmReFQBCJE",
        "outputId": "3a5b6755-2ad0-419f-a4eb-e1f02cde2a57"
      },
      "execution_count": 32,
      "outputs": [
        {
          "output_type": "stream",
          "name": "stdout",
          "text": [
            "[[3 4]\n",
            " [4 9]]\n",
            "[[2 9]\n",
            " [5 7]]\n",
            "[[ 6 36]\n",
            " [20 63]]\n",
            "[[26 55]\n",
            " [53 99]]\n",
            "[[26 55]\n",
            " [53 99]]\n"
          ]
        }
      ]
    },
    {
      "cell_type": "markdown",
      "source": [
        "\n",
        "14.    Створіть матрицю розміром 5x5, заповніть її випадковими цілими числами в діапазоні від 1 до 100 та знайдіть суму елементів матриці.\n"
      ],
      "metadata": {
        "id": "K51j2IbcAi1G"
      }
    },
    {
      "cell_type": "code",
      "source": [
        "a = np.random.randint(1, 100, (5,5))\n",
        "b = a.cumsum()\n",
        "print(a)\n",
        "print(b)\n",
        "print(b[::-1])\n",
        "print(b[:-1])\n",
        "print(b[-1])"
      ],
      "metadata": {
        "colab": {
          "base_uri": "https://localhost:8080/"
        },
        "id": "UtVYndKeB7PD",
        "outputId": "d1c779f5-e19c-4671-b1dc-acdd7388efc3"
      },
      "execution_count": 31,
      "outputs": [
        {
          "output_type": "stream",
          "name": "stdout",
          "text": [
            "[[69 14 25 98 72]\n",
            " [29 10  3 95 98]\n",
            " [25  8 85 61 35]\n",
            " [48 58 21 46 93]\n",
            " [94 61 82 35 17]]\n",
            "[  69   83  108  206  278  307  317  320  415  513  538  546  631  692\n",
            "  727  775  833  854  900  993 1087 1148 1230 1265 1282]\n",
            "[1282 1265 1230 1148 1087  993  900  854  833  775  727  692  631  546\n",
            "  538  513  415  320  317  307  278  206  108   83   69]\n",
            "[  69   83  108  206  278  307  317  320  415  513  538  546  631  692\n",
            "  727  775  833  854  900  993 1087 1148 1230 1265]\n",
            "1282\n"
          ]
        }
      ]
    },
    {
      "cell_type": "markdown",
      "source": [
        "\n",
        "15.    Створіть дві матриці розміром 4x4, заповніть їх випадковими цілими числами в діапазоні від 1 до 10 та знайдіть їхню різницю."
      ],
      "metadata": {
        "id": "OVT9eRCNAlDc"
      }
    },
    {
      "cell_type": "code",
      "source": [
        "a = np.random.randint(1, 10, (2,2))\n",
        "b = np.random.randint(1, 10, (2,2))\n",
        "c = a - b\n",
        "print(a)\n",
        "print(b)\n",
        "print(f\"знайдіть їхню різницю {c}\")"
      ],
      "metadata": {
        "colab": {
          "base_uri": "https://localhost:8080/"
        },
        "id": "Gf2pJvpyEnVY",
        "outputId": "89dbb2c5-6d9c-46ad-85a0-287c5045161a"
      },
      "execution_count": 36,
      "outputs": [
        {
          "output_type": "stream",
          "name": "stdout",
          "text": [
            "[[8 1]\n",
            " [5 4]]\n",
            "[[2 6]\n",
            " [8 4]]\n",
            "знайдіть їхню різницю [[ 6 -5]\n",
            " [-3  0]]\n"
          ]
        }
      ]
    },
    {
      "cell_type": "markdown",
      "source": [
        "16.     Створіть матрицю розміром 3x3, заповніть її випадковими дійсними числами в діапазоні від 0 до 1 та знайдіть вектор-стовпчик, що містить суму елементів кожного рядка матриці.\n"
      ],
      "metadata": {
        "id": "MV_8j1yyFL4w"
      }
    },
    {
      "cell_type": "code",
      "source": [
        "a = np.random.random((3,3))\n",
        "\n",
        "# c = a * b\n",
        "print(a)\n",
        "\n",
        "# print(c)"
      ],
      "metadata": {
        "colab": {
          "base_uri": "https://localhost:8080/"
        },
        "id": "yLCo05nBFW3o",
        "outputId": "64460f8d-968a-4976-f324-9206cc044fe7"
      },
      "execution_count": 50,
      "outputs": [
        {
          "output_type": "stream",
          "name": "stdout",
          "text": [
            "[[0.61844214 0.9949937  0.39344401]\n",
            " [0.84941716 0.53764372 0.04103732]\n",
            " [0.03627932 0.05456304 0.234381  ]]\n"
          ]
        }
      ]
    },
    {
      "cell_type": "markdown",
      "source": [
        "\n",
        "17.    Створіть матрицю розміром 3x4 з довільними цілими числами і створінь матрицю з квадратами цих чисел.\n"
      ],
      "metadata": {
        "id": "ddSVZixcFR31"
      }
    },
    {
      "cell_type": "code",
      "source": [
        "a = np.random.randint(1, 10, (3,4))\n",
        "print(a)\n",
        "print(a ** 2)\n",
        "print(np.power(a, 2))\n",
        "\n",
        "print(np.square(a))"
      ],
      "metadata": {
        "colab": {
          "base_uri": "https://localhost:8080/"
        },
        "id": "lz9uN5MSPRzP",
        "outputId": "6b6b4160-8945-4c07-e740-6e5379b7ce82"
      },
      "execution_count": 45,
      "outputs": [
        {
          "output_type": "stream",
          "name": "stdout",
          "text": [
            "[[6 6 5 3]\n",
            " [7 3 7 5]\n",
            " [7 6 8 8]]\n",
            "[[36 36 25  9]\n",
            " [49  9 49 25]\n",
            " [49 36 64 64]]\n",
            "[[36 36 25  9]\n",
            " [49  9 49 25]\n",
            " [49 36 64 64]]\n",
            "[[36 36 25  9]\n",
            " [49  9 49 25]\n",
            " [49 36 64 64]]\n"
          ]
        }
      ]
    },
    {
      "cell_type": "markdown",
      "source": [
        "\n",
        "18.    Створіть вектор розміром 4, заповніть його випадковими цілими числами в діапазоні від 1 до 50 та знайдіть вектор з квадратними коренями цих чисел."
      ],
      "metadata": {
        "id": "F1NpT4wpFUfD"
      }
    },
    {
      "cell_type": "code",
      "source": [
        "a = np.random.randint(1, 50, (4))\n",
        "print(a)\n",
        "print(np.sqrt(a))"
      ],
      "metadata": {
        "colab": {
          "base_uri": "https://localhost:8080/"
        },
        "id": "uHrgaa7tP1yu",
        "outputId": "895d1d21-7dd6-46bb-b55a-f4a5d413e8bd"
      },
      "execution_count": 47,
      "outputs": [
        {
          "output_type": "stream",
          "name": "stdout",
          "text": [
            "[ 4 35 38 32]\n",
            "[2.         5.91607978 6.164414   5.65685425]\n"
          ]
        }
      ]
    },
    {
      "cell_type": "markdown",
      "source": [
        "Домашнє завдання\n",
        "\n",
        "#---\n",
        "\n",
        "    Створіть матрицю розміром 3x3, заповніть її випадковими дійсними числами в діапазоні від 0 до 1 та знайдіть вектор-стовпчик, що містить суму елементів кожного рядка матриці.\n",
        "\n",
        "    Створіть матрицю розміром 3x4 з довільними цілими числами і створінь матрицю з квадратами цих чисел.\n",
        "\n",
        "    Створіть вектор розміром 4, заповніть його випадковими цілими числами в діапазоні від 1 до 50 та знайдіть вектор з квадратними коренями цих чисел.\n",
        "\n",
        "Домашня робота здається у вигляді Jupyter файлу Hw1.ipynb.\n",
        "\n",
        "    Створіть одновимірний масив (вектор) з першими 10-ма натуральними числами та виведіть його значення.\n",
        "\n",
        "    Створіть двовимірний масив (матрицю) розміром 3x3, заповніть його нулями та виведіть його значення.\n",
        "\n",
        "    Створіть масив розміром 5x5, заповніть його випадковими цілими числами в діапазоні від 1 до 10 та виведіть його значення.\n",
        "\n",
        "    Створіть масив розміром 4x4, заповніть його випадковими дійсними числами в діапазоні від 0 до 1 та виведіть його значення.\n",
        "\n",
        "    Створіть два одновимірних масиви розміром 5, заповніть їх випадковими цілими числами в діапазоні від 1 до 10 та виконайте на них поелементні операції додавання, віднімання та множення.\n",
        "\n",
        "    Створіть два вектори розміром 7, заповніть довільними числами та знайдіть їх скалярний добуток.\n",
        "\n",
        "    Створіть дві матриці розміром 2x2 та 2x3, заповніть їх випадковими цілими числами в діапазоні від 1 до 10 та перемножте їх між собою.\n",
        "\n",
        "    Створіть матрицю розміром 3x3, заповніть її випадковими цілими числами в діапазоні від 1 до 10 та знайдіть її обернену матрицю.\n",
        "\n",
        "    Створіть матрицю розміром 4x4, заповніть її випадковими дійсними числами в діапазоні від 0 до 1 та транспонуйте її.\n",
        "\n",
        "    Створіть матрицю розміром 3x4 та вектор розміром 4, заповніть їх випадковими цілими числами в діапазоні від 1 до 10 та перемножте матрицю на вектор.\n",
        "\n",
        "    Створіть матрицю розміром 2x3 та вектор розміром 3, заповніть їх випадковими дійсними числами в діапазоні від 0 до 1 та перемножте матрицю на вектор.\n",
        "\n",
        "    Створіть дві матриці розміром 2x2, заповніть їх випадковими цілими числами в діапазоні від 1 до 10 та виконайте їхнє поелементне множення.\n",
        "\n",
        "    Створіть дві матриці розміром 2x2, заповніть їх випадковими цілими числами в діапазоні від 1 до 10 та знайдіть їх добуток.\n",
        "\n",
        "    Створіть матрицю розміром 5x5, заповніть її випадковими цілими числами в діапазоні від 1 до 100 та знайдіть суму елементів матриці.\n",
        "\n",
        "    Створіть дві матриці розміром 4x4, заповніть їх випадковими цілими числами в діапазоні від 1 до 10 та знайдіть їхню різницю.\n"
      ],
      "metadata": {
        "id": "dSOCErOvmUwm"
      }
    },
    {
      "cell_type": "code",
      "source": [],
      "metadata": {
        "id": "hJdb4avEmcCJ"
      },
      "execution_count": null,
      "outputs": []
    }
  ]
}